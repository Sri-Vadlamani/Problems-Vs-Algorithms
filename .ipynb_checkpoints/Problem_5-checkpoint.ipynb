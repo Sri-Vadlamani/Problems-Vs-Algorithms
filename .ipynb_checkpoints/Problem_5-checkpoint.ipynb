{
 "cells": [
  {
   "cell_type": "markdown",
   "metadata": {},
   "source": [
    "### Building a Trie in Python\n",
    "Before we start let us reiterate they key components of a Trie or Prefix Tree. A trie is a tree like data structure that stores a dynamic set of strings. Tries are commonly used to facilitate operations like predictive text or autocomplete features on mobile phones or web search. Before we move into the autocomplete function we need to create a working trie for storeing strings. We will create two classes, a Trie which contains the root node (empty string) and exposes the general functionality of the Trie like inserting a word or finding the node which represents a prefix. Give it a try by implementing the TrieNode and Trie classes below!"
   ]
  },
  {
   "cell_type": "code",
   "execution_count": 3,
   "metadata": {},
   "outputs": [],
   "source": [
    "class TrieNode:\n",
    "    def __init__(self, val=''):\n",
    "        ## Initialize this node in the Trie\n",
    "        self.value = val\n",
    "        self.next = {}\n",
    "\n",
    "    def insert(self, char):\n",
    "        ## Add a child node in this Trie\n",
    "        self.next[char] = self.next.get(char, TrieNode(char))\n",
    "\n",
    "        \n",
    "## The Trie itself containing the root node and insert/find functions\n",
    "class Trie:\n",
    "    def __init__(self):\n",
    "        ## Initialize this Trie (add a root node)\n",
    "        self.root = {}\n",
    "\n",
    "    def insert(self, word):\n",
    "        ## Add a word to the Trie\n",
    "        word = word\n",
    "        self.root[word[0]] = self.root.get(word[0], TrieNode(word[0]))\n",
    "        current = self.root[word[0]]\n",
    "        for i in range(1, len(word)):\n",
    "            current.insert(word[i])\n",
    "            current = current.next[word[i]]\n",
    "\n",
    "    def find(self, prefix):\n",
    "        ## Find the Trie node that represents this prefix\n",
    "        if not prefix:\n",
    "            return self.root\n",
    "\n",
    "        if prefix[0] not in self.root:\n",
    "            return None\n",
    "\n",
    "        current = self.root[prefix[0]]\n",
    "        if current:\n",
    "            for i in range(1,len(prefix)):\n",
    "                if prefix[i] not in current.next:\n",
    "                    return None\n",
    "                current = current.next[prefix[i]]\n",
    "        return current\n"
   ]
  },
  {
   "cell_type": "markdown",
   "metadata": {},
   "source": [
    "### Finding Suffixes\n",
    "Now that we have a functioning Trie, we need to add the ability to list suffixes to implement our autocomplete feature. To do that we need to implement a new function on the TrieNode object that will return all compelte word suffixes that exist below it in the trie. e.h. if our Trie contains the words: [\"fun\", \"function\", \"factory\"] and we as for suffixes from the f node we would expect to receive [\"un\", \"unction\", \"actory\"] back from node.suffixes()\n",
    "\n",
    "Using the code you wrote for the TrieNode above, try to add the suffixes function below. (Hint: recurse down the trie, collecting suffixes as you go)"
   ]
  },
  {
   "cell_type": "code",
   "execution_count": 4,
   "metadata": {},
   "outputs": [],
   "source": [
    "class TrieNode:\n",
    "    def __init__(self, val=''):\n",
    "        ## Initialize this node in the Trie\n",
    "        self.value = val\n",
    "        self.next = {}\n",
    "\n",
    "    def insert(self, char):\n",
    "        ## Add a child node in this Trie\n",
    "        self.next[char] = self.next.get(char, TrieNode(char))\n",
    "\n",
    "    def suffixes(self, suffix = ''):\n",
    "        ## Recursive function that collects the suffix for\n",
    "        ## all complete words below this point\n",
    "        #print(self.value)\n",
    "        #print(self.next)\n",
    "        #print(suffix, 'suffix', self.next)\n",
    "        suffix_list = []\n",
    "        for values in self.next:\n",
    "            #print(values, 'val')\n",
    "            if self.next[values].next:\n",
    "                suffix_list.extend(self.next[values].suffixes(suffix+values))\n",
    "            elif values == '\\x00':\n",
    "                suffix_list.append(suffix)\n",
    "        return suffix_list\n"
   ]
  },
  {
   "cell_type": "markdown",
   "metadata": {},
   "source": [
    "### Testing it all out\n",
    "Run the following code to add some words to your trie and then use the interactive search box to see what your code returns."
   ]
  },
  {
   "cell_type": "code",
   "execution_count": 5,
   "metadata": {},
   "outputs": [
    {
     "data": {
      "application/vnd.jupyter.widget-view+json": {
       "model_id": "beb1fb18c81546cd9a4f3ddab9f4f7f2",
       "version_major": 2,
       "version_minor": 0
      },
      "text/plain": [
       "interactive(children=(Text(value='', description='prefix'), Output()), _dom_classes=('widget-interact',))"
      ]
     },
     "metadata": {},
     "output_type": "display_data"
    }
   ],
   "source": [
    "MyTrie = Trie()\n",
    "wordList = [\n",
    "    \"ant\", \"anthology\", \"antagonist\", \"antonym\",\n",
    "    \"fun\", \"function\", \"factory\",\n",
    "    \"trie\", \"trigger\", \"trigonometry\", \"tripod\"\n",
    "]\n",
    "\n",
    "for word in wordList:\n",
    "    MyTrie.insert(word+'\\0')\n",
    "\n",
    "from ipywidgets import widgets\n",
    "from IPython.display import display\n",
    "from ipywidgets import interact\n",
    "def f(prefix):\n",
    "    if prefix != '':\n",
    "        prefixNode = MyTrie.find(prefix)\n",
    "        if prefixNode:\n",
    "            print('\\n'.join(prefixNode.suffixes()))\n",
    "        else:\n",
    "            print(prefix + \" not found\")\n",
    "    else:\n",
    "        print('')\n",
    "interact(f,prefix='');\n"
   ]
  }
 ],
 "metadata": {
  "kernelspec": {
   "display_name": "Python 3",
   "language": "python",
   "name": "python3"
  },
  "language_info": {
   "codemirror_mode": {
    "name": "ipython",
    "version": 3
   },
   "file_extension": ".py",
   "mimetype": "text/x-python",
   "name": "python",
   "nbconvert_exporter": "python",
   "pygments_lexer": "ipython3",
   "version": "3.6.8"
  }
 },
 "nbformat": 4,
 "nbformat_minor": 2
}
